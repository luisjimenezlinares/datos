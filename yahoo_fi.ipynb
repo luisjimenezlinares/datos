{
  "nbformat": 4,
  "nbformat_minor": 0,
  "metadata": {
    "colab": {
      "private_outputs": true,
      "provenance": [],
      "include_colab_link": true
    },
    "kernelspec": {
      "name": "python3",
      "display_name": "Python 3"
    },
    "language_info": {
      "name": "python"
    }
  },
  "cells": [
    {
      "cell_type": "markdown",
      "metadata": {
        "id": "view-in-github",
        "colab_type": "text"
      },
      "source": [
        "<a href=\"https://colab.research.google.com/github/luisjimenezlinares/datos/blob/master/yahoo_fi.ipynb\" target=\"_parent\"><img src=\"https://colab.research.google.com/assets/colab-badge.svg\" alt=\"Open In Colab\"/></a>"
      ]
    },
    {
      "cell_type": "code",
      "execution_count": null,
      "metadata": {
        "id": "7AsbYLTu8Fzs"
      },
      "outputs": [],
      "source": [
        "!pip install  pandas yahoo_fin"
      ]
    },
    {
      "cell_type": "markdown",
      "source": [
        "# Información financiera de [Yahoo Finalcial](https://finance.yahoo.com/)\n",
        "\n",
        "Utilización de la librería [yahoo_fin](https://theautomatic.net/yahoo_fin-documentation/)"
      ],
      "metadata": {
        "id": "nzQJ9ADRQJAl"
      }
    },
    {
      "cell_type": "code",
      "source": [
        "import yahoo_fin.stock_info as si\n",
        "import pandas as pd"
      ],
      "metadata": {
        "id": "sX6mu8HXb_iY"
      },
      "execution_count": null,
      "outputs": []
    },
    {
      "cell_type": "markdown",
      "source": [
        "## Acciones más activas"
      ],
      "metadata": {
        "id": "Mznkczaocp2Z"
      }
    },
    {
      "cell_type": "code",
      "source": [
        "dataTikecs=si.get_day_most_active()\n",
        "dataTikecs.head()"
      ],
      "metadata": {
        "id": "Hyce6w6vcw8w"
      },
      "execution_count": null,
      "outputs": []
    }
  ]
}